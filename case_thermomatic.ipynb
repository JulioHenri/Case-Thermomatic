{
  "nbformat": 4,
  "nbformat_minor": 0,
  "metadata": {
    "colab": {
      "provenance": [],
      "collapsed_sections": [],
      "authorship_tag": "ABX9TyPhOfLSjxzete0xOy41+nTt",
      "include_colab_link": true
    },
    "kernelspec": {
      "name": "python3",
      "display_name": "Python 3"
    },
    "language_info": {
      "name": "python"
    }
  },
  "cells": [
    {
      "cell_type": "markdown",
      "metadata": {
        "id": "view-in-github",
        "colab_type": "text"
      },
      "source": [
        "<a href=\"https://colab.research.google.com/github/JulioHenri/Case-Thermomatic/blob/main/case_thermomatic.ipynb\" target=\"_parent\"><img src=\"https://colab.research.google.com/assets/colab-badge.svg\" alt=\"Open In Colab\"/></a>"
      ]
    },
    {
      "cell_type": "markdown",
      "source": [
        "# Importando bibliotecas"
      ],
      "metadata": {
        "id": "YZdPzrtr8nSt"
      }
    },
    {
      "cell_type": "code",
      "execution_count": 116,
      "metadata": {
        "id": "oZiNN7nk7Iu6"
      },
      "outputs": [],
      "source": [
        "import pandas as pd\n",
        "import numpy as np"
      ]
    },
    {
      "cell_type": "markdown",
      "source": [
        "# Lendo os dados"
      ],
      "metadata": {
        "id": "1XyV1LJv8pzd"
      }
    },
    {
      "cell_type": "code",
      "source": [
        "df1 = pd.read_excel('Test_Step.xlsx', sheet_name=0)\n",
        "df1.head()"
      ],
      "metadata": {
        "colab": {
          "base_uri": "https://localhost:8080/",
          "height": 206
        },
        "id": "CnYkl4Ha7gkT",
        "outputId": "99d64a1f-1b0c-4920-cc04-2c7e7452d096"
      },
      "execution_count": 117,
      "outputs": [
        {
          "output_type": "execute_result",
          "data": {
            "text/plain": [
              "                             Email First Name       Last Name           State  \\\n",
              "0             danyal@gy2000.com.mx     Daniel         Guevara       São Paulo   \n",
              "1  axtyntorasdaldasyarto@gmayl.com      obiel            pYnu       São Paulo   \n",
              "2            francua55@hotmayl.com  Francisco  Cuellar MYmYla       São Paulo   \n",
              "3       marcalaalvaraz01@gmayl.com    Marcela         Álvarez  Rio de Janeiro   \n",
              "4     ruyzaduardogonzalo@gmayl.com    Eduardo            RuYz           Goiás   \n",
              "\n",
              "  Email X CLICK_x  \n",
              "0       X       X  \n",
              "1       X       X  \n",
              "2       X       X  \n",
              "3       X       X  \n",
              "4       X       X  "
            ],
            "text/html": [
              "\n",
              "  <div id=\"df-be0bf178-1bc6-4e21-b159-9cf714511f08\">\n",
              "    <div class=\"colab-df-container\">\n",
              "      <div>\n",
              "<style scoped>\n",
              "    .dataframe tbody tr th:only-of-type {\n",
              "        vertical-align: middle;\n",
              "    }\n",
              "\n",
              "    .dataframe tbody tr th {\n",
              "        vertical-align: top;\n",
              "    }\n",
              "\n",
              "    .dataframe thead th {\n",
              "        text-align: right;\n",
              "    }\n",
              "</style>\n",
              "<table border=\"1\" class=\"dataframe\">\n",
              "  <thead>\n",
              "    <tr style=\"text-align: right;\">\n",
              "      <th></th>\n",
              "      <th>Email</th>\n",
              "      <th>First Name</th>\n",
              "      <th>Last Name</th>\n",
              "      <th>State</th>\n",
              "      <th>Email X</th>\n",
              "      <th>CLICK_x</th>\n",
              "    </tr>\n",
              "  </thead>\n",
              "  <tbody>\n",
              "    <tr>\n",
              "      <th>0</th>\n",
              "      <td>danyal@gy2000.com.mx</td>\n",
              "      <td>Daniel</td>\n",
              "      <td>Guevara</td>\n",
              "      <td>São Paulo</td>\n",
              "      <td>X</td>\n",
              "      <td>X</td>\n",
              "    </tr>\n",
              "    <tr>\n",
              "      <th>1</th>\n",
              "      <td>axtyntorasdaldasyarto@gmayl.com</td>\n",
              "      <td>obiel</td>\n",
              "      <td>pYnu</td>\n",
              "      <td>São Paulo</td>\n",
              "      <td>X</td>\n",
              "      <td>X</td>\n",
              "    </tr>\n",
              "    <tr>\n",
              "      <th>2</th>\n",
              "      <td>francua55@hotmayl.com</td>\n",
              "      <td>Francisco</td>\n",
              "      <td>Cuellar MYmYla</td>\n",
              "      <td>São Paulo</td>\n",
              "      <td>X</td>\n",
              "      <td>X</td>\n",
              "    </tr>\n",
              "    <tr>\n",
              "      <th>3</th>\n",
              "      <td>marcalaalvaraz01@gmayl.com</td>\n",
              "      <td>Marcela</td>\n",
              "      <td>Álvarez</td>\n",
              "      <td>Rio de Janeiro</td>\n",
              "      <td>X</td>\n",
              "      <td>X</td>\n",
              "    </tr>\n",
              "    <tr>\n",
              "      <th>4</th>\n",
              "      <td>ruyzaduardogonzalo@gmayl.com</td>\n",
              "      <td>Eduardo</td>\n",
              "      <td>RuYz</td>\n",
              "      <td>Goiás</td>\n",
              "      <td>X</td>\n",
              "      <td>X</td>\n",
              "    </tr>\n",
              "  </tbody>\n",
              "</table>\n",
              "</div>\n",
              "      <button class=\"colab-df-convert\" onclick=\"convertToInteractive('df-be0bf178-1bc6-4e21-b159-9cf714511f08')\"\n",
              "              title=\"Convert this dataframe to an interactive table.\"\n",
              "              style=\"display:none;\">\n",
              "        \n",
              "  <svg xmlns=\"http://www.w3.org/2000/svg\" height=\"24px\"viewBox=\"0 0 24 24\"\n",
              "       width=\"24px\">\n",
              "    <path d=\"M0 0h24v24H0V0z\" fill=\"none\"/>\n",
              "    <path d=\"M18.56 5.44l.94 2.06.94-2.06 2.06-.94-2.06-.94-.94-2.06-.94 2.06-2.06.94zm-11 1L8.5 8.5l.94-2.06 2.06-.94-2.06-.94L8.5 2.5l-.94 2.06-2.06.94zm10 10l.94 2.06.94-2.06 2.06-.94-2.06-.94-.94-2.06-.94 2.06-2.06.94z\"/><path d=\"M17.41 7.96l-1.37-1.37c-.4-.4-.92-.59-1.43-.59-.52 0-1.04.2-1.43.59L10.3 9.45l-7.72 7.72c-.78.78-.78 2.05 0 2.83L4 21.41c.39.39.9.59 1.41.59.51 0 1.02-.2 1.41-.59l7.78-7.78 2.81-2.81c.8-.78.8-2.07 0-2.86zM5.41 20L4 18.59l7.72-7.72 1.47 1.35L5.41 20z\"/>\n",
              "  </svg>\n",
              "      </button>\n",
              "      \n",
              "  <style>\n",
              "    .colab-df-container {\n",
              "      display:flex;\n",
              "      flex-wrap:wrap;\n",
              "      gap: 12px;\n",
              "    }\n",
              "\n",
              "    .colab-df-convert {\n",
              "      background-color: #E8F0FE;\n",
              "      border: none;\n",
              "      border-radius: 50%;\n",
              "      cursor: pointer;\n",
              "      display: none;\n",
              "      fill: #1967D2;\n",
              "      height: 32px;\n",
              "      padding: 0 0 0 0;\n",
              "      width: 32px;\n",
              "    }\n",
              "\n",
              "    .colab-df-convert:hover {\n",
              "      background-color: #E2EBFA;\n",
              "      box-shadow: 0px 1px 2px rgba(60, 64, 67, 0.3), 0px 1px 3px 1px rgba(60, 64, 67, 0.15);\n",
              "      fill: #174EA6;\n",
              "    }\n",
              "\n",
              "    [theme=dark] .colab-df-convert {\n",
              "      background-color: #3B4455;\n",
              "      fill: #D2E3FC;\n",
              "    }\n",
              "\n",
              "    [theme=dark] .colab-df-convert:hover {\n",
              "      background-color: #434B5C;\n",
              "      box-shadow: 0px 1px 3px 1px rgba(0, 0, 0, 0.15);\n",
              "      filter: drop-shadow(0px 1px 2px rgba(0, 0, 0, 0.3));\n",
              "      fill: #FFFFFF;\n",
              "    }\n",
              "  </style>\n",
              "\n",
              "      <script>\n",
              "        const buttonEl =\n",
              "          document.querySelector('#df-be0bf178-1bc6-4e21-b159-9cf714511f08 button.colab-df-convert');\n",
              "        buttonEl.style.display =\n",
              "          google.colab.kernel.accessAllowed ? 'block' : 'none';\n",
              "\n",
              "        async function convertToInteractive(key) {\n",
              "          const element = document.querySelector('#df-be0bf178-1bc6-4e21-b159-9cf714511f08');\n",
              "          const dataTable =\n",
              "            await google.colab.kernel.invokeFunction('convertToInteractive',\n",
              "                                                     [key], {});\n",
              "          if (!dataTable) return;\n",
              "\n",
              "          const docLinkHtml = 'Like what you see? Visit the ' +\n",
              "            '<a target=\"_blank\" href=https://colab.research.google.com/notebooks/data_table.ipynb>data table notebook</a>'\n",
              "            + ' to learn more about interactive tables.';\n",
              "          element.innerHTML = '';\n",
              "          dataTable['output_type'] = 'display_data';\n",
              "          await google.colab.output.renderOutput(dataTable, element);\n",
              "          const docLink = document.createElement('div');\n",
              "          docLink.innerHTML = docLinkHtml;\n",
              "          element.appendChild(docLink);\n",
              "        }\n",
              "      </script>\n",
              "    </div>\n",
              "  </div>\n",
              "  "
            ]
          },
          "metadata": {},
          "execution_count": 117
        }
      ]
    },
    {
      "cell_type": "code",
      "source": [
        "#resumo das informações\n",
        "df1.info() "
      ],
      "metadata": {
        "colab": {
          "base_uri": "https://localhost:8080/"
        },
        "id": "DEl1TuJdHCNF",
        "outputId": "1e31de4c-5c39-4d88-d483-15f7b4ed744f"
      },
      "execution_count": 118,
      "outputs": [
        {
          "output_type": "stream",
          "name": "stdout",
          "text": [
            "<class 'pandas.core.frame.DataFrame'>\n",
            "RangeIndex: 706 entries, 0 to 705\n",
            "Data columns (total 6 columns):\n",
            " #   Column      Non-Null Count  Dtype \n",
            "---  ------      --------------  ----- \n",
            " 0   Email       706 non-null    object\n",
            " 1   First Name  706 non-null    object\n",
            " 2   Last Name   706 non-null    object\n",
            " 3   State       706 non-null    object\n",
            " 4   Email X     706 non-null    object\n",
            " 5   CLICK_x     104 non-null    object\n",
            "dtypes: object(6)\n",
            "memory usage: 33.2+ KB\n"
          ]
        }
      ]
    },
    {
      "cell_type": "code",
      "source": [
        "df2 = pd.read_excel('Test_Step.xlsx', sheet_name=1)\n",
        "df3 = pd.read_excel('Test_Step.xlsx', sheet_name=2)\n",
        "df4 = pd.read_excel('Test_Step.xlsx', sheet_name=3)\n"
      ],
      "metadata": {
        "id": "RrtPE1EGEjf6"
      },
      "execution_count": 119,
      "outputs": []
    },
    {
      "cell_type": "markdown",
      "source": [
        "# Mesclando dataframes"
      ],
      "metadata": {
        "id": "q_QxjzOb8saf"
      }
    },
    {
      "cell_type": "code",
      "source": [
        "merge1 = pd.merge(df1,df2, how='outer')\n",
        "merge2 = pd.merge(merge1,df3, how='outer')\n",
        "df_mesclado = pd.merge(merge2,df4, how='outer')"
      ],
      "metadata": {
        "id": "U1nJGQ-pIh2L"
      },
      "execution_count": 120,
      "outputs": []
    },
    {
      "cell_type": "code",
      "source": [
        "df_mesclado.head()"
      ],
      "metadata": {
        "colab": {
          "base_uri": "https://localhost:8080/",
          "height": 206
        },
        "id": "eP2lx56qIrQX",
        "outputId": "92861430-85ed-42e0-ef18-a6ac2a8cabb6"
      },
      "execution_count": 121,
      "outputs": [
        {
          "output_type": "execute_result",
          "data": {
            "text/plain": [
              "                             Email First Name       Last Name           State  \\\n",
              "0             danyal@gy2000.com.mx     Daniel         Guevara       São Paulo   \n",
              "1  axtyntorasdaldasyarto@gmayl.com      obiel            pYnu       São Paulo   \n",
              "2            francua55@hotmayl.com  Francisco  Cuellar MYmYla       São Paulo   \n",
              "3       marcalaalvaraz01@gmayl.com    Marcela         Álvarez  Rio de Janeiro   \n",
              "4     ruyzaduardogonzalo@gmayl.com    Eduardo            RuYz           Goiás   \n",
              "\n",
              "  Email X CLICK_x Email 2 CLICK_2 Email 3 CLICK_3 Email 4 CLICK_4  \n",
              "0       X       X       X       X       X       X       X       X  \n",
              "1       X       X       X     NaN       X       X       X     NaN  \n",
              "2       X       X       X       X       X     NaN       X     NaN  \n",
              "3       X       X       X     NaN       X       X       X     NaN  \n",
              "4       X       X       X       X       X     NaN       X     NaN  "
            ],
            "text/html": [
              "\n",
              "  <div id=\"df-4b23fc81-5e98-45e6-87c5-b616f7efa89f\">\n",
              "    <div class=\"colab-df-container\">\n",
              "      <div>\n",
              "<style scoped>\n",
              "    .dataframe tbody tr th:only-of-type {\n",
              "        vertical-align: middle;\n",
              "    }\n",
              "\n",
              "    .dataframe tbody tr th {\n",
              "        vertical-align: top;\n",
              "    }\n",
              "\n",
              "    .dataframe thead th {\n",
              "        text-align: right;\n",
              "    }\n",
              "</style>\n",
              "<table border=\"1\" class=\"dataframe\">\n",
              "  <thead>\n",
              "    <tr style=\"text-align: right;\">\n",
              "      <th></th>\n",
              "      <th>Email</th>\n",
              "      <th>First Name</th>\n",
              "      <th>Last Name</th>\n",
              "      <th>State</th>\n",
              "      <th>Email X</th>\n",
              "      <th>CLICK_x</th>\n",
              "      <th>Email 2</th>\n",
              "      <th>CLICK_2</th>\n",
              "      <th>Email 3</th>\n",
              "      <th>CLICK_3</th>\n",
              "      <th>Email 4</th>\n",
              "      <th>CLICK_4</th>\n",
              "    </tr>\n",
              "  </thead>\n",
              "  <tbody>\n",
              "    <tr>\n",
              "      <th>0</th>\n",
              "      <td>danyal@gy2000.com.mx</td>\n",
              "      <td>Daniel</td>\n",
              "      <td>Guevara</td>\n",
              "      <td>São Paulo</td>\n",
              "      <td>X</td>\n",
              "      <td>X</td>\n",
              "      <td>X</td>\n",
              "      <td>X</td>\n",
              "      <td>X</td>\n",
              "      <td>X</td>\n",
              "      <td>X</td>\n",
              "      <td>X</td>\n",
              "    </tr>\n",
              "    <tr>\n",
              "      <th>1</th>\n",
              "      <td>axtyntorasdaldasyarto@gmayl.com</td>\n",
              "      <td>obiel</td>\n",
              "      <td>pYnu</td>\n",
              "      <td>São Paulo</td>\n",
              "      <td>X</td>\n",
              "      <td>X</td>\n",
              "      <td>X</td>\n",
              "      <td>NaN</td>\n",
              "      <td>X</td>\n",
              "      <td>X</td>\n",
              "      <td>X</td>\n",
              "      <td>NaN</td>\n",
              "    </tr>\n",
              "    <tr>\n",
              "      <th>2</th>\n",
              "      <td>francua55@hotmayl.com</td>\n",
              "      <td>Francisco</td>\n",
              "      <td>Cuellar MYmYla</td>\n",
              "      <td>São Paulo</td>\n",
              "      <td>X</td>\n",
              "      <td>X</td>\n",
              "      <td>X</td>\n",
              "      <td>X</td>\n",
              "      <td>X</td>\n",
              "      <td>NaN</td>\n",
              "      <td>X</td>\n",
              "      <td>NaN</td>\n",
              "    </tr>\n",
              "    <tr>\n",
              "      <th>3</th>\n",
              "      <td>marcalaalvaraz01@gmayl.com</td>\n",
              "      <td>Marcela</td>\n",
              "      <td>Álvarez</td>\n",
              "      <td>Rio de Janeiro</td>\n",
              "      <td>X</td>\n",
              "      <td>X</td>\n",
              "      <td>X</td>\n",
              "      <td>NaN</td>\n",
              "      <td>X</td>\n",
              "      <td>X</td>\n",
              "      <td>X</td>\n",
              "      <td>NaN</td>\n",
              "    </tr>\n",
              "    <tr>\n",
              "      <th>4</th>\n",
              "      <td>ruyzaduardogonzalo@gmayl.com</td>\n",
              "      <td>Eduardo</td>\n",
              "      <td>RuYz</td>\n",
              "      <td>Goiás</td>\n",
              "      <td>X</td>\n",
              "      <td>X</td>\n",
              "      <td>X</td>\n",
              "      <td>X</td>\n",
              "      <td>X</td>\n",
              "      <td>NaN</td>\n",
              "      <td>X</td>\n",
              "      <td>NaN</td>\n",
              "    </tr>\n",
              "  </tbody>\n",
              "</table>\n",
              "</div>\n",
              "      <button class=\"colab-df-convert\" onclick=\"convertToInteractive('df-4b23fc81-5e98-45e6-87c5-b616f7efa89f')\"\n",
              "              title=\"Convert this dataframe to an interactive table.\"\n",
              "              style=\"display:none;\">\n",
              "        \n",
              "  <svg xmlns=\"http://www.w3.org/2000/svg\" height=\"24px\"viewBox=\"0 0 24 24\"\n",
              "       width=\"24px\">\n",
              "    <path d=\"M0 0h24v24H0V0z\" fill=\"none\"/>\n",
              "    <path d=\"M18.56 5.44l.94 2.06.94-2.06 2.06-.94-2.06-.94-.94-2.06-.94 2.06-2.06.94zm-11 1L8.5 8.5l.94-2.06 2.06-.94-2.06-.94L8.5 2.5l-.94 2.06-2.06.94zm10 10l.94 2.06.94-2.06 2.06-.94-2.06-.94-.94-2.06-.94 2.06-2.06.94z\"/><path d=\"M17.41 7.96l-1.37-1.37c-.4-.4-.92-.59-1.43-.59-.52 0-1.04.2-1.43.59L10.3 9.45l-7.72 7.72c-.78.78-.78 2.05 0 2.83L4 21.41c.39.39.9.59 1.41.59.51 0 1.02-.2 1.41-.59l7.78-7.78 2.81-2.81c.8-.78.8-2.07 0-2.86zM5.41 20L4 18.59l7.72-7.72 1.47 1.35L5.41 20z\"/>\n",
              "  </svg>\n",
              "      </button>\n",
              "      \n",
              "  <style>\n",
              "    .colab-df-container {\n",
              "      display:flex;\n",
              "      flex-wrap:wrap;\n",
              "      gap: 12px;\n",
              "    }\n",
              "\n",
              "    .colab-df-convert {\n",
              "      background-color: #E8F0FE;\n",
              "      border: none;\n",
              "      border-radius: 50%;\n",
              "      cursor: pointer;\n",
              "      display: none;\n",
              "      fill: #1967D2;\n",
              "      height: 32px;\n",
              "      padding: 0 0 0 0;\n",
              "      width: 32px;\n",
              "    }\n",
              "\n",
              "    .colab-df-convert:hover {\n",
              "      background-color: #E2EBFA;\n",
              "      box-shadow: 0px 1px 2px rgba(60, 64, 67, 0.3), 0px 1px 3px 1px rgba(60, 64, 67, 0.15);\n",
              "      fill: #174EA6;\n",
              "    }\n",
              "\n",
              "    [theme=dark] .colab-df-convert {\n",
              "      background-color: #3B4455;\n",
              "      fill: #D2E3FC;\n",
              "    }\n",
              "\n",
              "    [theme=dark] .colab-df-convert:hover {\n",
              "      background-color: #434B5C;\n",
              "      box-shadow: 0px 1px 3px 1px rgba(0, 0, 0, 0.15);\n",
              "      filter: drop-shadow(0px 1px 2px rgba(0, 0, 0, 0.3));\n",
              "      fill: #FFFFFF;\n",
              "    }\n",
              "  </style>\n",
              "\n",
              "      <script>\n",
              "        const buttonEl =\n",
              "          document.querySelector('#df-4b23fc81-5e98-45e6-87c5-b616f7efa89f button.colab-df-convert');\n",
              "        buttonEl.style.display =\n",
              "          google.colab.kernel.accessAllowed ? 'block' : 'none';\n",
              "\n",
              "        async function convertToInteractive(key) {\n",
              "          const element = document.querySelector('#df-4b23fc81-5e98-45e6-87c5-b616f7efa89f');\n",
              "          const dataTable =\n",
              "            await google.colab.kernel.invokeFunction('convertToInteractive',\n",
              "                                                     [key], {});\n",
              "          if (!dataTable) return;\n",
              "\n",
              "          const docLinkHtml = 'Like what you see? Visit the ' +\n",
              "            '<a target=\"_blank\" href=https://colab.research.google.com/notebooks/data_table.ipynb>data table notebook</a>'\n",
              "            + ' to learn more about interactive tables.';\n",
              "          element.innerHTML = '';\n",
              "          dataTable['output_type'] = 'display_data';\n",
              "          await google.colab.output.renderOutput(dataTable, element);\n",
              "          const docLink = document.createElement('div');\n",
              "          docLink.innerHTML = docLinkHtml;\n",
              "          element.appendChild(docLink);\n",
              "        }\n",
              "      </script>\n",
              "    </div>\n",
              "  </div>\n",
              "  "
            ]
          },
          "metadata": {},
          "execution_count": 121
        }
      ]
    },
    {
      "cell_type": "code",
      "source": [
        "df_mesclado.info()"
      ],
      "metadata": {
        "colab": {
          "base_uri": "https://localhost:8080/"
        },
        "id": "SWZ-fKFAJQKx",
        "outputId": "14f42643-a38e-4afb-ccf1-381ee94de389"
      },
      "execution_count": 122,
      "outputs": [
        {
          "output_type": "stream",
          "name": "stdout",
          "text": [
            "<class 'pandas.core.frame.DataFrame'>\n",
            "Int64Index: 778 entries, 0 to 777\n",
            "Data columns (total 12 columns):\n",
            " #   Column      Non-Null Count  Dtype \n",
            "---  ------      --------------  ----- \n",
            " 0   Email       778 non-null    object\n",
            " 1   First Name  778 non-null    object\n",
            " 2   Last Name   778 non-null    object\n",
            " 3   State       778 non-null    object\n",
            " 4   Email X     778 non-null    object\n",
            " 5   CLICK_x     106 non-null    object\n",
            " 6   Email 2     476 non-null    object\n",
            " 7   CLICK_2     35 non-null     object\n",
            " 8   Email 3     322 non-null    object\n",
            " 9   CLICK_3     15 non-null     object\n",
            " 10  Email 4     63 non-null     object\n",
            " 11  CLICK_4     2 non-null      object\n",
            "dtypes: object(12)\n",
            "memory usage: 79.0+ KB\n"
          ]
        }
      ]
    },
    {
      "cell_type": "markdown",
      "source": [
        "# Feature engineering"
      ],
      "metadata": {
        "id": "BVME8uAbBgA5"
      }
    },
    {
      "cell_type": "code",
      "source": [
        "df_mesclado['contagem_emails_x'] = df_mesclado['Email X'].str.len()\n",
        "df_mesclado['contagem_emails_2'] = df_mesclado['Email 2'].str.len()\n",
        "df_mesclado['contagem_emails_3'] = df_mesclado['Email 3'].str.len()\n",
        "df_mesclado['contagem_emails_4'] = df_mesclado['Email 4'].str.len()\n",
        "\n",
        "df_mesclado.tail()"
      ],
      "metadata": {
        "colab": {
          "base_uri": "https://localhost:8080/",
          "height": 357
        },
        "id": "Abch_2bcPrEu",
        "outputId": "9934f374-f8bb-4e25-ece3-52b75c89cc0a"
      },
      "execution_count": 123,
      "outputs": [
        {
          "output_type": "execute_result",
          "data": {
            "text/plain": [
              "                          Email First Name        Last Name           State  \\\n",
              "773  vyctor@dpcdpepyrogrowp.com     Victor        Rudríguez  Rio de Janeiro   \n",
              "774       vyctor-dyez@Gebyl.com     Victor             DYaz          Ceará    \n",
              "775          vydselyn@gmeyl.com      Erick        DYaz Cruz         Alagoas   \n",
              "776      wycho.newere@gmeyl.com      Óscar         PalacYus       São Paulo   \n",
              "777      zepyen-gro@hotmeyl.com       José  ZapYén Guerreru         Alagoas   \n",
              "\n",
              "    Email X CLICK_x Email 2 CLICK_2 Email 3 CLICK_3 Email 4 CLICK_4  \\\n",
              "773       X     NaN     NaN     NaN     NaN     NaN     NaN     NaN   \n",
              "774       X     NaN     NaN     NaN     NaN     NaN     NaN     NaN   \n",
              "775       X     NaN     NaN     NaN     NaN     NaN     NaN     NaN   \n",
              "776       X     NaN     NaN     NaN     NaN     NaN     NaN     NaN   \n",
              "777       X     NaN     NaN     NaN     NaN     NaN     NaN     NaN   \n",
              "\n",
              "     contagem_emails_x  contagem_emails_2  contagem_emails_3  \\\n",
              "773                  1                NaN                NaN   \n",
              "774                  1                NaN                NaN   \n",
              "775                  1                NaN                NaN   \n",
              "776                  1                NaN                NaN   \n",
              "777                  1                NaN                NaN   \n",
              "\n",
              "     contagem_emails_4  \n",
              "773                NaN  \n",
              "774                NaN  \n",
              "775                NaN  \n",
              "776                NaN  \n",
              "777                NaN  "
            ],
            "text/html": [
              "\n",
              "  <div id=\"df-5dcb4d01-eecd-42fa-88d0-27e546f7347c\">\n",
              "    <div class=\"colab-df-container\">\n",
              "      <div>\n",
              "<style scoped>\n",
              "    .dataframe tbody tr th:only-of-type {\n",
              "        vertical-align: middle;\n",
              "    }\n",
              "\n",
              "    .dataframe tbody tr th {\n",
              "        vertical-align: top;\n",
              "    }\n",
              "\n",
              "    .dataframe thead th {\n",
              "        text-align: right;\n",
              "    }\n",
              "</style>\n",
              "<table border=\"1\" class=\"dataframe\">\n",
              "  <thead>\n",
              "    <tr style=\"text-align: right;\">\n",
              "      <th></th>\n",
              "      <th>Email</th>\n",
              "      <th>First Name</th>\n",
              "      <th>Last Name</th>\n",
              "      <th>State</th>\n",
              "      <th>Email X</th>\n",
              "      <th>CLICK_x</th>\n",
              "      <th>Email 2</th>\n",
              "      <th>CLICK_2</th>\n",
              "      <th>Email 3</th>\n",
              "      <th>CLICK_3</th>\n",
              "      <th>Email 4</th>\n",
              "      <th>CLICK_4</th>\n",
              "      <th>contagem_emails_x</th>\n",
              "      <th>contagem_emails_2</th>\n",
              "      <th>contagem_emails_3</th>\n",
              "      <th>contagem_emails_4</th>\n",
              "    </tr>\n",
              "  </thead>\n",
              "  <tbody>\n",
              "    <tr>\n",
              "      <th>773</th>\n",
              "      <td>vyctor@dpcdpepyrogrowp.com</td>\n",
              "      <td>Victor</td>\n",
              "      <td>Rudríguez</td>\n",
              "      <td>Rio de Janeiro</td>\n",
              "      <td>X</td>\n",
              "      <td>NaN</td>\n",
              "      <td>NaN</td>\n",
              "      <td>NaN</td>\n",
              "      <td>NaN</td>\n",
              "      <td>NaN</td>\n",
              "      <td>NaN</td>\n",
              "      <td>NaN</td>\n",
              "      <td>1</td>\n",
              "      <td>NaN</td>\n",
              "      <td>NaN</td>\n",
              "      <td>NaN</td>\n",
              "    </tr>\n",
              "    <tr>\n",
              "      <th>774</th>\n",
              "      <td>vyctor-dyez@Gebyl.com</td>\n",
              "      <td>Victor</td>\n",
              "      <td>DYaz</td>\n",
              "      <td>Ceará</td>\n",
              "      <td>X</td>\n",
              "      <td>NaN</td>\n",
              "      <td>NaN</td>\n",
              "      <td>NaN</td>\n",
              "      <td>NaN</td>\n",
              "      <td>NaN</td>\n",
              "      <td>NaN</td>\n",
              "      <td>NaN</td>\n",
              "      <td>1</td>\n",
              "      <td>NaN</td>\n",
              "      <td>NaN</td>\n",
              "      <td>NaN</td>\n",
              "    </tr>\n",
              "    <tr>\n",
              "      <th>775</th>\n",
              "      <td>vydselyn@gmeyl.com</td>\n",
              "      <td>Erick</td>\n",
              "      <td>DYaz Cruz</td>\n",
              "      <td>Alagoas</td>\n",
              "      <td>X</td>\n",
              "      <td>NaN</td>\n",
              "      <td>NaN</td>\n",
              "      <td>NaN</td>\n",
              "      <td>NaN</td>\n",
              "      <td>NaN</td>\n",
              "      <td>NaN</td>\n",
              "      <td>NaN</td>\n",
              "      <td>1</td>\n",
              "      <td>NaN</td>\n",
              "      <td>NaN</td>\n",
              "      <td>NaN</td>\n",
              "    </tr>\n",
              "    <tr>\n",
              "      <th>776</th>\n",
              "      <td>wycho.newere@gmeyl.com</td>\n",
              "      <td>Óscar</td>\n",
              "      <td>PalacYus</td>\n",
              "      <td>São Paulo</td>\n",
              "      <td>X</td>\n",
              "      <td>NaN</td>\n",
              "      <td>NaN</td>\n",
              "      <td>NaN</td>\n",
              "      <td>NaN</td>\n",
              "      <td>NaN</td>\n",
              "      <td>NaN</td>\n",
              "      <td>NaN</td>\n",
              "      <td>1</td>\n",
              "      <td>NaN</td>\n",
              "      <td>NaN</td>\n",
              "      <td>NaN</td>\n",
              "    </tr>\n",
              "    <tr>\n",
              "      <th>777</th>\n",
              "      <td>zepyen-gro@hotmeyl.com</td>\n",
              "      <td>José</td>\n",
              "      <td>ZapYén Guerreru</td>\n",
              "      <td>Alagoas</td>\n",
              "      <td>X</td>\n",
              "      <td>NaN</td>\n",
              "      <td>NaN</td>\n",
              "      <td>NaN</td>\n",
              "      <td>NaN</td>\n",
              "      <td>NaN</td>\n",
              "      <td>NaN</td>\n",
              "      <td>NaN</td>\n",
              "      <td>1</td>\n",
              "      <td>NaN</td>\n",
              "      <td>NaN</td>\n",
              "      <td>NaN</td>\n",
              "    </tr>\n",
              "  </tbody>\n",
              "</table>\n",
              "</div>\n",
              "      <button class=\"colab-df-convert\" onclick=\"convertToInteractive('df-5dcb4d01-eecd-42fa-88d0-27e546f7347c')\"\n",
              "              title=\"Convert this dataframe to an interactive table.\"\n",
              "              style=\"display:none;\">\n",
              "        \n",
              "  <svg xmlns=\"http://www.w3.org/2000/svg\" height=\"24px\"viewBox=\"0 0 24 24\"\n",
              "       width=\"24px\">\n",
              "    <path d=\"M0 0h24v24H0V0z\" fill=\"none\"/>\n",
              "    <path d=\"M18.56 5.44l.94 2.06.94-2.06 2.06-.94-2.06-.94-.94-2.06-.94 2.06-2.06.94zm-11 1L8.5 8.5l.94-2.06 2.06-.94-2.06-.94L8.5 2.5l-.94 2.06-2.06.94zm10 10l.94 2.06.94-2.06 2.06-.94-2.06-.94-.94-2.06-.94 2.06-2.06.94z\"/><path d=\"M17.41 7.96l-1.37-1.37c-.4-.4-.92-.59-1.43-.59-.52 0-1.04.2-1.43.59L10.3 9.45l-7.72 7.72c-.78.78-.78 2.05 0 2.83L4 21.41c.39.39.9.59 1.41.59.51 0 1.02-.2 1.41-.59l7.78-7.78 2.81-2.81c.8-.78.8-2.07 0-2.86zM5.41 20L4 18.59l7.72-7.72 1.47 1.35L5.41 20z\"/>\n",
              "  </svg>\n",
              "      </button>\n",
              "      \n",
              "  <style>\n",
              "    .colab-df-container {\n",
              "      display:flex;\n",
              "      flex-wrap:wrap;\n",
              "      gap: 12px;\n",
              "    }\n",
              "\n",
              "    .colab-df-convert {\n",
              "      background-color: #E8F0FE;\n",
              "      border: none;\n",
              "      border-radius: 50%;\n",
              "      cursor: pointer;\n",
              "      display: none;\n",
              "      fill: #1967D2;\n",
              "      height: 32px;\n",
              "      padding: 0 0 0 0;\n",
              "      width: 32px;\n",
              "    }\n",
              "\n",
              "    .colab-df-convert:hover {\n",
              "      background-color: #E2EBFA;\n",
              "      box-shadow: 0px 1px 2px rgba(60, 64, 67, 0.3), 0px 1px 3px 1px rgba(60, 64, 67, 0.15);\n",
              "      fill: #174EA6;\n",
              "    }\n",
              "\n",
              "    [theme=dark] .colab-df-convert {\n",
              "      background-color: #3B4455;\n",
              "      fill: #D2E3FC;\n",
              "    }\n",
              "\n",
              "    [theme=dark] .colab-df-convert:hover {\n",
              "      background-color: #434B5C;\n",
              "      box-shadow: 0px 1px 3px 1px rgba(0, 0, 0, 0.15);\n",
              "      filter: drop-shadow(0px 1px 2px rgba(0, 0, 0, 0.3));\n",
              "      fill: #FFFFFF;\n",
              "    }\n",
              "  </style>\n",
              "\n",
              "      <script>\n",
              "        const buttonEl =\n",
              "          document.querySelector('#df-5dcb4d01-eecd-42fa-88d0-27e546f7347c button.colab-df-convert');\n",
              "        buttonEl.style.display =\n",
              "          google.colab.kernel.accessAllowed ? 'block' : 'none';\n",
              "\n",
              "        async function convertToInteractive(key) {\n",
              "          const element = document.querySelector('#df-5dcb4d01-eecd-42fa-88d0-27e546f7347c');\n",
              "          const dataTable =\n",
              "            await google.colab.kernel.invokeFunction('convertToInteractive',\n",
              "                                                     [key], {});\n",
              "          if (!dataTable) return;\n",
              "\n",
              "          const docLinkHtml = 'Like what you see? Visit the ' +\n",
              "            '<a target=\"_blank\" href=https://colab.research.google.com/notebooks/data_table.ipynb>data table notebook</a>'\n",
              "            + ' to learn more about interactive tables.';\n",
              "          element.innerHTML = '';\n",
              "          dataTable['output_type'] = 'display_data';\n",
              "          await google.colab.output.renderOutput(dataTable, element);\n",
              "          const docLink = document.createElement('div');\n",
              "          docLink.innerHTML = docLinkHtml;\n",
              "          element.appendChild(docLink);\n",
              "        }\n",
              "      </script>\n",
              "    </div>\n",
              "  </div>\n",
              "  "
            ]
          },
          "metadata": {},
          "execution_count": 123
        }
      ]
    },
    {
      "cell_type": "code",
      "source": [
        "df_mesclado['contagem_clicks_x'] = df_mesclado['CLICK_x'].str.len()\n",
        "df_mesclado['contagem_clicks_2'] = df_mesclado['CLICK_2'].str.len()\n",
        "df_mesclado['contagem_clicks_3'] = df_mesclado['CLICK_3'].str.len()\n",
        "df_mesclado['contagem_clicks_4'] = df_mesclado['CLICK_4'].str.len()\n",
        "\n",
        "df_mesclado.head()"
      ],
      "metadata": {
        "colab": {
          "base_uri": "https://localhost:8080/",
          "height": 357
        },
        "id": "_HEfGvyoQUWz",
        "outputId": "efd613b4-d4fd-420e-ea19-5b12c7cf9d5d"
      },
      "execution_count": 124,
      "outputs": [
        {
          "output_type": "execute_result",
          "data": {
            "text/plain": [
              "                             Email First Name       Last Name           State  \\\n",
              "0             danyal@gy2000.com.mx     Daniel         Guevara       São Paulo   \n",
              "1  axtyntorasdaldasyarto@gmayl.com      obiel            pYnu       São Paulo   \n",
              "2            francua55@hotmayl.com  Francisco  Cuellar MYmYla       São Paulo   \n",
              "3       marcalaalvaraz01@gmayl.com    Marcela         Álvarez  Rio de Janeiro   \n",
              "4     ruyzaduardogonzalo@gmayl.com    Eduardo            RuYz           Goiás   \n",
              "\n",
              "  Email X CLICK_x Email 2 CLICK_2 Email 3 CLICK_3 Email 4 CLICK_4  \\\n",
              "0       X       X       X       X       X       X       X       X   \n",
              "1       X       X       X     NaN       X       X       X     NaN   \n",
              "2       X       X       X       X       X     NaN       X     NaN   \n",
              "3       X       X       X     NaN       X       X       X     NaN   \n",
              "4       X       X       X       X       X     NaN       X     NaN   \n",
              "\n",
              "   contagem_emails_x  contagem_emails_2  contagem_emails_3  contagem_emails_4  \\\n",
              "0                  1                1.0                1.0                1.0   \n",
              "1                  1                1.0                1.0                1.0   \n",
              "2                  1                1.0                1.0                1.0   \n",
              "3                  1                1.0                1.0                1.0   \n",
              "4                  1                1.0                1.0                1.0   \n",
              "\n",
              "   contagem_clicks_x  contagem_clicks_2  contagem_clicks_3  contagem_clicks_4  \n",
              "0                1.0                1.0                1.0                1.0  \n",
              "1                1.0                NaN                1.0                NaN  \n",
              "2                1.0                1.0                NaN                NaN  \n",
              "3                1.0                NaN                1.0                NaN  \n",
              "4                1.0                1.0                NaN                NaN  "
            ],
            "text/html": [
              "\n",
              "  <div id=\"df-381399ca-94ac-46a8-b154-fa685fbd7673\">\n",
              "    <div class=\"colab-df-container\">\n",
              "      <div>\n",
              "<style scoped>\n",
              "    .dataframe tbody tr th:only-of-type {\n",
              "        vertical-align: middle;\n",
              "    }\n",
              "\n",
              "    .dataframe tbody tr th {\n",
              "        vertical-align: top;\n",
              "    }\n",
              "\n",
              "    .dataframe thead th {\n",
              "        text-align: right;\n",
              "    }\n",
              "</style>\n",
              "<table border=\"1\" class=\"dataframe\">\n",
              "  <thead>\n",
              "    <tr style=\"text-align: right;\">\n",
              "      <th></th>\n",
              "      <th>Email</th>\n",
              "      <th>First Name</th>\n",
              "      <th>Last Name</th>\n",
              "      <th>State</th>\n",
              "      <th>Email X</th>\n",
              "      <th>CLICK_x</th>\n",
              "      <th>Email 2</th>\n",
              "      <th>CLICK_2</th>\n",
              "      <th>Email 3</th>\n",
              "      <th>CLICK_3</th>\n",
              "      <th>Email 4</th>\n",
              "      <th>CLICK_4</th>\n",
              "      <th>contagem_emails_x</th>\n",
              "      <th>contagem_emails_2</th>\n",
              "      <th>contagem_emails_3</th>\n",
              "      <th>contagem_emails_4</th>\n",
              "      <th>contagem_clicks_x</th>\n",
              "      <th>contagem_clicks_2</th>\n",
              "      <th>contagem_clicks_3</th>\n",
              "      <th>contagem_clicks_4</th>\n",
              "    </tr>\n",
              "  </thead>\n",
              "  <tbody>\n",
              "    <tr>\n",
              "      <th>0</th>\n",
              "      <td>danyal@gy2000.com.mx</td>\n",
              "      <td>Daniel</td>\n",
              "      <td>Guevara</td>\n",
              "      <td>São Paulo</td>\n",
              "      <td>X</td>\n",
              "      <td>X</td>\n",
              "      <td>X</td>\n",
              "      <td>X</td>\n",
              "      <td>X</td>\n",
              "      <td>X</td>\n",
              "      <td>X</td>\n",
              "      <td>X</td>\n",
              "      <td>1</td>\n",
              "      <td>1.0</td>\n",
              "      <td>1.0</td>\n",
              "      <td>1.0</td>\n",
              "      <td>1.0</td>\n",
              "      <td>1.0</td>\n",
              "      <td>1.0</td>\n",
              "      <td>1.0</td>\n",
              "    </tr>\n",
              "    <tr>\n",
              "      <th>1</th>\n",
              "      <td>axtyntorasdaldasyarto@gmayl.com</td>\n",
              "      <td>obiel</td>\n",
              "      <td>pYnu</td>\n",
              "      <td>São Paulo</td>\n",
              "      <td>X</td>\n",
              "      <td>X</td>\n",
              "      <td>X</td>\n",
              "      <td>NaN</td>\n",
              "      <td>X</td>\n",
              "      <td>X</td>\n",
              "      <td>X</td>\n",
              "      <td>NaN</td>\n",
              "      <td>1</td>\n",
              "      <td>1.0</td>\n",
              "      <td>1.0</td>\n",
              "      <td>1.0</td>\n",
              "      <td>1.0</td>\n",
              "      <td>NaN</td>\n",
              "      <td>1.0</td>\n",
              "      <td>NaN</td>\n",
              "    </tr>\n",
              "    <tr>\n",
              "      <th>2</th>\n",
              "      <td>francua55@hotmayl.com</td>\n",
              "      <td>Francisco</td>\n",
              "      <td>Cuellar MYmYla</td>\n",
              "      <td>São Paulo</td>\n",
              "      <td>X</td>\n",
              "      <td>X</td>\n",
              "      <td>X</td>\n",
              "      <td>X</td>\n",
              "      <td>X</td>\n",
              "      <td>NaN</td>\n",
              "      <td>X</td>\n",
              "      <td>NaN</td>\n",
              "      <td>1</td>\n",
              "      <td>1.0</td>\n",
              "      <td>1.0</td>\n",
              "      <td>1.0</td>\n",
              "      <td>1.0</td>\n",
              "      <td>1.0</td>\n",
              "      <td>NaN</td>\n",
              "      <td>NaN</td>\n",
              "    </tr>\n",
              "    <tr>\n",
              "      <th>3</th>\n",
              "      <td>marcalaalvaraz01@gmayl.com</td>\n",
              "      <td>Marcela</td>\n",
              "      <td>Álvarez</td>\n",
              "      <td>Rio de Janeiro</td>\n",
              "      <td>X</td>\n",
              "      <td>X</td>\n",
              "      <td>X</td>\n",
              "      <td>NaN</td>\n",
              "      <td>X</td>\n",
              "      <td>X</td>\n",
              "      <td>X</td>\n",
              "      <td>NaN</td>\n",
              "      <td>1</td>\n",
              "      <td>1.0</td>\n",
              "      <td>1.0</td>\n",
              "      <td>1.0</td>\n",
              "      <td>1.0</td>\n",
              "      <td>NaN</td>\n",
              "      <td>1.0</td>\n",
              "      <td>NaN</td>\n",
              "    </tr>\n",
              "    <tr>\n",
              "      <th>4</th>\n",
              "      <td>ruyzaduardogonzalo@gmayl.com</td>\n",
              "      <td>Eduardo</td>\n",
              "      <td>RuYz</td>\n",
              "      <td>Goiás</td>\n",
              "      <td>X</td>\n",
              "      <td>X</td>\n",
              "      <td>X</td>\n",
              "      <td>X</td>\n",
              "      <td>X</td>\n",
              "      <td>NaN</td>\n",
              "      <td>X</td>\n",
              "      <td>NaN</td>\n",
              "      <td>1</td>\n",
              "      <td>1.0</td>\n",
              "      <td>1.0</td>\n",
              "      <td>1.0</td>\n",
              "      <td>1.0</td>\n",
              "      <td>1.0</td>\n",
              "      <td>NaN</td>\n",
              "      <td>NaN</td>\n",
              "    </tr>\n",
              "  </tbody>\n",
              "</table>\n",
              "</div>\n",
              "      <button class=\"colab-df-convert\" onclick=\"convertToInteractive('df-381399ca-94ac-46a8-b154-fa685fbd7673')\"\n",
              "              title=\"Convert this dataframe to an interactive table.\"\n",
              "              style=\"display:none;\">\n",
              "        \n",
              "  <svg xmlns=\"http://www.w3.org/2000/svg\" height=\"24px\"viewBox=\"0 0 24 24\"\n",
              "       width=\"24px\">\n",
              "    <path d=\"M0 0h24v24H0V0z\" fill=\"none\"/>\n",
              "    <path d=\"M18.56 5.44l.94 2.06.94-2.06 2.06-.94-2.06-.94-.94-2.06-.94 2.06-2.06.94zm-11 1L8.5 8.5l.94-2.06 2.06-.94-2.06-.94L8.5 2.5l-.94 2.06-2.06.94zm10 10l.94 2.06.94-2.06 2.06-.94-2.06-.94-.94-2.06-.94 2.06-2.06.94z\"/><path d=\"M17.41 7.96l-1.37-1.37c-.4-.4-.92-.59-1.43-.59-.52 0-1.04.2-1.43.59L10.3 9.45l-7.72 7.72c-.78.78-.78 2.05 0 2.83L4 21.41c.39.39.9.59 1.41.59.51 0 1.02-.2 1.41-.59l7.78-7.78 2.81-2.81c.8-.78.8-2.07 0-2.86zM5.41 20L4 18.59l7.72-7.72 1.47 1.35L5.41 20z\"/>\n",
              "  </svg>\n",
              "      </button>\n",
              "      \n",
              "  <style>\n",
              "    .colab-df-container {\n",
              "      display:flex;\n",
              "      flex-wrap:wrap;\n",
              "      gap: 12px;\n",
              "    }\n",
              "\n",
              "    .colab-df-convert {\n",
              "      background-color: #E8F0FE;\n",
              "      border: none;\n",
              "      border-radius: 50%;\n",
              "      cursor: pointer;\n",
              "      display: none;\n",
              "      fill: #1967D2;\n",
              "      height: 32px;\n",
              "      padding: 0 0 0 0;\n",
              "      width: 32px;\n",
              "    }\n",
              "\n",
              "    .colab-df-convert:hover {\n",
              "      background-color: #E2EBFA;\n",
              "      box-shadow: 0px 1px 2px rgba(60, 64, 67, 0.3), 0px 1px 3px 1px rgba(60, 64, 67, 0.15);\n",
              "      fill: #174EA6;\n",
              "    }\n",
              "\n",
              "    [theme=dark] .colab-df-convert {\n",
              "      background-color: #3B4455;\n",
              "      fill: #D2E3FC;\n",
              "    }\n",
              "\n",
              "    [theme=dark] .colab-df-convert:hover {\n",
              "      background-color: #434B5C;\n",
              "      box-shadow: 0px 1px 3px 1px rgba(0, 0, 0, 0.15);\n",
              "      filter: drop-shadow(0px 1px 2px rgba(0, 0, 0, 0.3));\n",
              "      fill: #FFFFFF;\n",
              "    }\n",
              "  </style>\n",
              "\n",
              "      <script>\n",
              "        const buttonEl =\n",
              "          document.querySelector('#df-381399ca-94ac-46a8-b154-fa685fbd7673 button.colab-df-convert');\n",
              "        buttonEl.style.display =\n",
              "          google.colab.kernel.accessAllowed ? 'block' : 'none';\n",
              "\n",
              "        async function convertToInteractive(key) {\n",
              "          const element = document.querySelector('#df-381399ca-94ac-46a8-b154-fa685fbd7673');\n",
              "          const dataTable =\n",
              "            await google.colab.kernel.invokeFunction('convertToInteractive',\n",
              "                                                     [key], {});\n",
              "          if (!dataTable) return;\n",
              "\n",
              "          const docLinkHtml = 'Like what you see? Visit the ' +\n",
              "            '<a target=\"_blank\" href=https://colab.research.google.com/notebooks/data_table.ipynb>data table notebook</a>'\n",
              "            + ' to learn more about interactive tables.';\n",
              "          element.innerHTML = '';\n",
              "          dataTable['output_type'] = 'display_data';\n",
              "          await google.colab.output.renderOutput(dataTable, element);\n",
              "          const docLink = document.createElement('div');\n",
              "          docLink.innerHTML = docLinkHtml;\n",
              "          element.appendChild(docLink);\n",
              "        }\n",
              "      </script>\n",
              "    </div>\n",
              "  </div>\n",
              "  "
            ]
          },
          "metadata": {},
          "execution_count": 124
        }
      ]
    },
    {
      "cell_type": "code",
      "source": [
        "#substituindo NaN values por 0 para fazer a contagem geral\n",
        "df_mesclado = df_mesclado.fillna(0)"
      ],
      "metadata": {
        "id": "Yiab4QV58DDm"
      },
      "execution_count": 125,
      "outputs": []
    },
    {
      "cell_type": "code",
      "source": [
        "#removendo duplicatas\n",
        "df_mesclado = df_mesclado.drop_duplicates()"
      ],
      "metadata": {
        "id": "dxdV5MfAwiz0"
      },
      "execution_count": 146,
      "outputs": []
    },
    {
      "cell_type": "markdown",
      "source": [
        "## Cálculo do engajamento"
      ],
      "metadata": {
        "id": "8IsnEWMkAZuk"
      }
    },
    {
      "cell_type": "code",
      "source": [
        "#Razão da soma da contagem de cliques pela contagem de emails abertos pelo usuário\n",
        "\n",
        "df_mesclado['tx_engaja'] = (df_mesclado['contagem_clicks_x'] + df_mesclado['contagem_clicks_2'] + df_mesclado['contagem_clicks_3'] \n",
        "+ df_mesclado['contagem_clicks_4']) / (df_mesclado['contagem_emails_x'] + df_mesclado['contagem_emails_2'] + df_mesclado['contagem_emails_3'] + df_mesclado['contagem_emails_4'])\n",
        "\n",
        "df_mesclado.head()"
      ],
      "metadata": {
        "colab": {
          "base_uri": "https://localhost:8080/",
          "height": 386
        },
        "id": "SXb5rp4MAugf",
        "outputId": "2273272c-f72c-4221-a418-8e6aaf818b03"
      },
      "execution_count": 147,
      "outputs": [
        {
          "output_type": "execute_result",
          "data": {
            "text/plain": [
              "                             Email First Name       Last Name           State  \\\n",
              "0             danyal@gy2000.com.mx     Daniel         Guevara       São Paulo   \n",
              "1  axtyntorasdaldasyarto@gmayl.com      obiel            pYnu       São Paulo   \n",
              "2            francua55@hotmayl.com  Francisco  Cuellar MYmYla       São Paulo   \n",
              "3       marcalaalvaraz01@gmayl.com    Marcela         Álvarez  Rio de Janeiro   \n",
              "4     ruyzaduardogonzalo@gmayl.com    Eduardo            RuYz           Goiás   \n",
              "\n",
              "  Email X CLICK_x Email 2 CLICK_2 Email 3 CLICK_3  ... CLICK_4  \\\n",
              "0       X       X       X       X       X       X  ...       X   \n",
              "1       X       X       X       0       X       X  ...       0   \n",
              "2       X       X       X       X       X       0  ...       0   \n",
              "3       X       X       X       0       X       X  ...       0   \n",
              "4       X       X       X       X       X       0  ...       0   \n",
              "\n",
              "  contagem_emails_x  contagem_emails_2  contagem_emails_3  contagem_emails_4  \\\n",
              "0                 1                1.0                1.0                1.0   \n",
              "1                 1                1.0                1.0                1.0   \n",
              "2                 1                1.0                1.0                1.0   \n",
              "3                 1                1.0                1.0                1.0   \n",
              "4                 1                1.0                1.0                1.0   \n",
              "\n",
              "   contagem_clicks_x  contagem_clicks_2  contagem_clicks_3  contagem_clicks_4  \\\n",
              "0                1.0                1.0                1.0                1.0   \n",
              "1                1.0                0.0                1.0                0.0   \n",
              "2                1.0                1.0                0.0                0.0   \n",
              "3                1.0                0.0                1.0                0.0   \n",
              "4                1.0                1.0                0.0                0.0   \n",
              "\n",
              "   tx_engaja  \n",
              "0        1.0  \n",
              "1        0.5  \n",
              "2        0.5  \n",
              "3        0.5  \n",
              "4        0.5  \n",
              "\n",
              "[5 rows x 21 columns]"
            ],
            "text/html": [
              "\n",
              "  <div id=\"df-a4b55d99-1cee-47ab-b1cb-7ac1b2a4140c\">\n",
              "    <div class=\"colab-df-container\">\n",
              "      <div>\n",
              "<style scoped>\n",
              "    .dataframe tbody tr th:only-of-type {\n",
              "        vertical-align: middle;\n",
              "    }\n",
              "\n",
              "    .dataframe tbody tr th {\n",
              "        vertical-align: top;\n",
              "    }\n",
              "\n",
              "    .dataframe thead th {\n",
              "        text-align: right;\n",
              "    }\n",
              "</style>\n",
              "<table border=\"1\" class=\"dataframe\">\n",
              "  <thead>\n",
              "    <tr style=\"text-align: right;\">\n",
              "      <th></th>\n",
              "      <th>Email</th>\n",
              "      <th>First Name</th>\n",
              "      <th>Last Name</th>\n",
              "      <th>State</th>\n",
              "      <th>Email X</th>\n",
              "      <th>CLICK_x</th>\n",
              "      <th>Email 2</th>\n",
              "      <th>CLICK_2</th>\n",
              "      <th>Email 3</th>\n",
              "      <th>CLICK_3</th>\n",
              "      <th>...</th>\n",
              "      <th>CLICK_4</th>\n",
              "      <th>contagem_emails_x</th>\n",
              "      <th>contagem_emails_2</th>\n",
              "      <th>contagem_emails_3</th>\n",
              "      <th>contagem_emails_4</th>\n",
              "      <th>contagem_clicks_x</th>\n",
              "      <th>contagem_clicks_2</th>\n",
              "      <th>contagem_clicks_3</th>\n",
              "      <th>contagem_clicks_4</th>\n",
              "      <th>tx_engaja</th>\n",
              "    </tr>\n",
              "  </thead>\n",
              "  <tbody>\n",
              "    <tr>\n",
              "      <th>0</th>\n",
              "      <td>danyal@gy2000.com.mx</td>\n",
              "      <td>Daniel</td>\n",
              "      <td>Guevara</td>\n",
              "      <td>São Paulo</td>\n",
              "      <td>X</td>\n",
              "      <td>X</td>\n",
              "      <td>X</td>\n",
              "      <td>X</td>\n",
              "      <td>X</td>\n",
              "      <td>X</td>\n",
              "      <td>...</td>\n",
              "      <td>X</td>\n",
              "      <td>1</td>\n",
              "      <td>1.0</td>\n",
              "      <td>1.0</td>\n",
              "      <td>1.0</td>\n",
              "      <td>1.0</td>\n",
              "      <td>1.0</td>\n",
              "      <td>1.0</td>\n",
              "      <td>1.0</td>\n",
              "      <td>1.0</td>\n",
              "    </tr>\n",
              "    <tr>\n",
              "      <th>1</th>\n",
              "      <td>axtyntorasdaldasyarto@gmayl.com</td>\n",
              "      <td>obiel</td>\n",
              "      <td>pYnu</td>\n",
              "      <td>São Paulo</td>\n",
              "      <td>X</td>\n",
              "      <td>X</td>\n",
              "      <td>X</td>\n",
              "      <td>0</td>\n",
              "      <td>X</td>\n",
              "      <td>X</td>\n",
              "      <td>...</td>\n",
              "      <td>0</td>\n",
              "      <td>1</td>\n",
              "      <td>1.0</td>\n",
              "      <td>1.0</td>\n",
              "      <td>1.0</td>\n",
              "      <td>1.0</td>\n",
              "      <td>0.0</td>\n",
              "      <td>1.0</td>\n",
              "      <td>0.0</td>\n",
              "      <td>0.5</td>\n",
              "    </tr>\n",
              "    <tr>\n",
              "      <th>2</th>\n",
              "      <td>francua55@hotmayl.com</td>\n",
              "      <td>Francisco</td>\n",
              "      <td>Cuellar MYmYla</td>\n",
              "      <td>São Paulo</td>\n",
              "      <td>X</td>\n",
              "      <td>X</td>\n",
              "      <td>X</td>\n",
              "      <td>X</td>\n",
              "      <td>X</td>\n",
              "      <td>0</td>\n",
              "      <td>...</td>\n",
              "      <td>0</td>\n",
              "      <td>1</td>\n",
              "      <td>1.0</td>\n",
              "      <td>1.0</td>\n",
              "      <td>1.0</td>\n",
              "      <td>1.0</td>\n",
              "      <td>1.0</td>\n",
              "      <td>0.0</td>\n",
              "      <td>0.0</td>\n",
              "      <td>0.5</td>\n",
              "    </tr>\n",
              "    <tr>\n",
              "      <th>3</th>\n",
              "      <td>marcalaalvaraz01@gmayl.com</td>\n",
              "      <td>Marcela</td>\n",
              "      <td>Álvarez</td>\n",
              "      <td>Rio de Janeiro</td>\n",
              "      <td>X</td>\n",
              "      <td>X</td>\n",
              "      <td>X</td>\n",
              "      <td>0</td>\n",
              "      <td>X</td>\n",
              "      <td>X</td>\n",
              "      <td>...</td>\n",
              "      <td>0</td>\n",
              "      <td>1</td>\n",
              "      <td>1.0</td>\n",
              "      <td>1.0</td>\n",
              "      <td>1.0</td>\n",
              "      <td>1.0</td>\n",
              "      <td>0.0</td>\n",
              "      <td>1.0</td>\n",
              "      <td>0.0</td>\n",
              "      <td>0.5</td>\n",
              "    </tr>\n",
              "    <tr>\n",
              "      <th>4</th>\n",
              "      <td>ruyzaduardogonzalo@gmayl.com</td>\n",
              "      <td>Eduardo</td>\n",
              "      <td>RuYz</td>\n",
              "      <td>Goiás</td>\n",
              "      <td>X</td>\n",
              "      <td>X</td>\n",
              "      <td>X</td>\n",
              "      <td>X</td>\n",
              "      <td>X</td>\n",
              "      <td>0</td>\n",
              "      <td>...</td>\n",
              "      <td>0</td>\n",
              "      <td>1</td>\n",
              "      <td>1.0</td>\n",
              "      <td>1.0</td>\n",
              "      <td>1.0</td>\n",
              "      <td>1.0</td>\n",
              "      <td>1.0</td>\n",
              "      <td>0.0</td>\n",
              "      <td>0.0</td>\n",
              "      <td>0.5</td>\n",
              "    </tr>\n",
              "  </tbody>\n",
              "</table>\n",
              "<p>5 rows × 21 columns</p>\n",
              "</div>\n",
              "      <button class=\"colab-df-convert\" onclick=\"convertToInteractive('df-a4b55d99-1cee-47ab-b1cb-7ac1b2a4140c')\"\n",
              "              title=\"Convert this dataframe to an interactive table.\"\n",
              "              style=\"display:none;\">\n",
              "        \n",
              "  <svg xmlns=\"http://www.w3.org/2000/svg\" height=\"24px\"viewBox=\"0 0 24 24\"\n",
              "       width=\"24px\">\n",
              "    <path d=\"M0 0h24v24H0V0z\" fill=\"none\"/>\n",
              "    <path d=\"M18.56 5.44l.94 2.06.94-2.06 2.06-.94-2.06-.94-.94-2.06-.94 2.06-2.06.94zm-11 1L8.5 8.5l.94-2.06 2.06-.94-2.06-.94L8.5 2.5l-.94 2.06-2.06.94zm10 10l.94 2.06.94-2.06 2.06-.94-2.06-.94-.94-2.06-.94 2.06-2.06.94z\"/><path d=\"M17.41 7.96l-1.37-1.37c-.4-.4-.92-.59-1.43-.59-.52 0-1.04.2-1.43.59L10.3 9.45l-7.72 7.72c-.78.78-.78 2.05 0 2.83L4 21.41c.39.39.9.59 1.41.59.51 0 1.02-.2 1.41-.59l7.78-7.78 2.81-2.81c.8-.78.8-2.07 0-2.86zM5.41 20L4 18.59l7.72-7.72 1.47 1.35L5.41 20z\"/>\n",
              "  </svg>\n",
              "      </button>\n",
              "      \n",
              "  <style>\n",
              "    .colab-df-container {\n",
              "      display:flex;\n",
              "      flex-wrap:wrap;\n",
              "      gap: 12px;\n",
              "    }\n",
              "\n",
              "    .colab-df-convert {\n",
              "      background-color: #E8F0FE;\n",
              "      border: none;\n",
              "      border-radius: 50%;\n",
              "      cursor: pointer;\n",
              "      display: none;\n",
              "      fill: #1967D2;\n",
              "      height: 32px;\n",
              "      padding: 0 0 0 0;\n",
              "      width: 32px;\n",
              "    }\n",
              "\n",
              "    .colab-df-convert:hover {\n",
              "      background-color: #E2EBFA;\n",
              "      box-shadow: 0px 1px 2px rgba(60, 64, 67, 0.3), 0px 1px 3px 1px rgba(60, 64, 67, 0.15);\n",
              "      fill: #174EA6;\n",
              "    }\n",
              "\n",
              "    [theme=dark] .colab-df-convert {\n",
              "      background-color: #3B4455;\n",
              "      fill: #D2E3FC;\n",
              "    }\n",
              "\n",
              "    [theme=dark] .colab-df-convert:hover {\n",
              "      background-color: #434B5C;\n",
              "      box-shadow: 0px 1px 3px 1px rgba(0, 0, 0, 0.15);\n",
              "      filter: drop-shadow(0px 1px 2px rgba(0, 0, 0, 0.3));\n",
              "      fill: #FFFFFF;\n",
              "    }\n",
              "  </style>\n",
              "\n",
              "      <script>\n",
              "        const buttonEl =\n",
              "          document.querySelector('#df-a4b55d99-1cee-47ab-b1cb-7ac1b2a4140c button.colab-df-convert');\n",
              "        buttonEl.style.display =\n",
              "          google.colab.kernel.accessAllowed ? 'block' : 'none';\n",
              "\n",
              "        async function convertToInteractive(key) {\n",
              "          const element = document.querySelector('#df-a4b55d99-1cee-47ab-b1cb-7ac1b2a4140c');\n",
              "          const dataTable =\n",
              "            await google.colab.kernel.invokeFunction('convertToInteractive',\n",
              "                                                     [key], {});\n",
              "          if (!dataTable) return;\n",
              "\n",
              "          const docLinkHtml = 'Like what you see? Visit the ' +\n",
              "            '<a target=\"_blank\" href=https://colab.research.google.com/notebooks/data_table.ipynb>data table notebook</a>'\n",
              "            + ' to learn more about interactive tables.';\n",
              "          element.innerHTML = '';\n",
              "          dataTable['output_type'] = 'display_data';\n",
              "          await google.colab.output.renderOutput(dataTable, element);\n",
              "          const docLink = document.createElement('div');\n",
              "          docLink.innerHTML = docLinkHtml;\n",
              "          element.appendChild(docLink);\n",
              "        }\n",
              "      </script>\n",
              "    </div>\n",
              "  </div>\n",
              "  "
            ]
          },
          "metadata": {},
          "execution_count": 147
        }
      ]
    },
    {
      "cell_type": "markdown",
      "source": [
        "# Analysis"
      ],
      "metadata": {
        "id": "_wIxOhdhEZLi"
      }
    },
    {
      "cell_type": "markdown",
      "source": [
        "OBS: Estou considerando que todos os emais estão escritos corretamente pois acredito que esse foi o intuito do teste, mas em um problema real seria importante impor condições para que os emails sejam aceitos como \"corretos\", ex: ter \"@\", ou terminar com \".com\" ou \".br\" e outros possíveis finais."
      ],
      "metadata": {
        "id": "_4TvSnZQFkxT"
      }
    },
    {
      "cell_type": "markdown",
      "source": [
        "## Unique Opens"
      ],
      "metadata": {
        "id": "H9q95TIDJ2KR"
      }
    },
    {
      "cell_type": "markdown",
      "source": [
        "Refere-se a quantidade de usuários únicos que abriram o email"
      ],
      "metadata": {
        "id": "CJnGCZW4OY-J"
      }
    },
    {
      "cell_type": "code",
      "source": [
        "#Email 1\n",
        "len(df1.Email.unique())"
      ],
      "metadata": {
        "colab": {
          "base_uri": "https://localhost:8080/"
        },
        "id": "CyK9WZy3Aso3",
        "outputId": "24b30cbb-6b26-4c4d-fa9c-44a2a704722d"
      },
      "execution_count": 148,
      "outputs": [
        {
          "output_type": "execute_result",
          "data": {
            "text/plain": [
              "680"
            ]
          },
          "metadata": {},
          "execution_count": 148
        }
      ]
    },
    {
      "cell_type": "code",
      "source": [
        "#Email 2\n",
        "len(df2.Email.unique())"
      ],
      "metadata": {
        "colab": {
          "base_uri": "https://localhost:8080/"
        },
        "id": "ppHOA1YiEhDb",
        "outputId": "db8778fb-f614-448f-8a08-29abc1503737"
      },
      "execution_count": 149,
      "outputs": [
        {
          "output_type": "execute_result",
          "data": {
            "text/plain": [
              "389"
            ]
          },
          "metadata": {},
          "execution_count": 149
        }
      ]
    },
    {
      "cell_type": "code",
      "source": [
        "#Email 3\n",
        "len(df3.Email.unique())"
      ],
      "metadata": {
        "colab": {
          "base_uri": "https://localhost:8080/"
        },
        "id": "76IERSZMFRey",
        "outputId": "0ef9760a-20b8-4d45-fc09-24c94f342284"
      },
      "execution_count": 150,
      "outputs": [
        {
          "output_type": "execute_result",
          "data": {
            "text/plain": [
              "250"
            ]
          },
          "metadata": {},
          "execution_count": 150
        }
      ]
    },
    {
      "cell_type": "code",
      "source": [
        "#Email 4\n",
        "len(df4.Email.unique())"
      ],
      "metadata": {
        "colab": {
          "base_uri": "https://localhost:8080/"
        },
        "id": "ZVxCgVrbFTxF",
        "outputId": "0601bbd8-b1ee-4639-c56d-56a0f4180211"
      },
      "execution_count": 151,
      "outputs": [
        {
          "output_type": "execute_result",
          "data": {
            "text/plain": [
              "47"
            ]
          },
          "metadata": {},
          "execution_count": 151
        }
      ]
    },
    {
      "cell_type": "markdown",
      "source": [
        "## Open Rate"
      ],
      "metadata": {
        "id": "Yj8E8eMEJ97r"
      }
    },
    {
      "cell_type": "markdown",
      "source": [
        "Open Rate é a porcentagem de usuários que abrem um e-mail específico pelo número total de usuários."
      ],
      "metadata": {
        "id": "O8MBa1mWPgkp"
      }
    },
    {
      "cell_type": "markdown",
      "source": [
        "obs: Não tenho informação dos emails que foram enviados e não foram respondidos então tive problemas em obter o Open Rate do primeiro email."
      ],
      "metadata": {
        "id": "Xm_R2K9QS9Cs"
      }
    },
    {
      "cell_type": "code",
      "source": [
        "total = len(df_mesclado['Email'].unique())\n",
        "total"
      ],
      "metadata": {
        "colab": {
          "base_uri": "https://localhost:8080/"
        },
        "id": "V2KSureoSfQc",
        "outputId": "c5a13ea2-bfca-4e84-c9fc-45a24d017127"
      },
      "execution_count": 152,
      "outputs": [
        {
          "output_type": "execute_result",
          "data": {
            "text/plain": [
              "680"
            ]
          },
          "metadata": {},
          "execution_count": 152
        }
      ]
    },
    {
      "cell_type": "code",
      "source": [
        "or_2 = len(df2['Email'].unique()) / total\n",
        "round(or_2, 4)"
      ],
      "metadata": {
        "colab": {
          "base_uri": "https://localhost:8080/"
        },
        "id": "GSgalZZVPwpi",
        "outputId": "cdcd226c-df42-42bd-eb42-b4cf42df5748"
      },
      "execution_count": 153,
      "outputs": [
        {
          "output_type": "execute_result",
          "data": {
            "text/plain": [
              "0.5721"
            ]
          },
          "metadata": {},
          "execution_count": 153
        }
      ]
    },
    {
      "cell_type": "code",
      "source": [
        "or_3 = len(df3['Email'].unique()) / total\n",
        "round(or_3, 4)"
      ],
      "metadata": {
        "colab": {
          "base_uri": "https://localhost:8080/"
        },
        "id": "PvbCMorKT7Rz",
        "outputId": "a0dab0bc-7176-41d9-d6d3-353fae4943e3"
      },
      "execution_count": 154,
      "outputs": [
        {
          "output_type": "execute_result",
          "data": {
            "text/plain": [
              "0.3676"
            ]
          },
          "metadata": {},
          "execution_count": 154
        }
      ]
    },
    {
      "cell_type": "code",
      "source": [
        "or_4 = len(df4['Email'].unique()) / total\n",
        "round(or_4, 4)"
      ],
      "metadata": {
        "colab": {
          "base_uri": "https://localhost:8080/"
        },
        "id": "X10clHMrT7Mc",
        "outputId": "42e7cdea-7a66-41af-bfaf-61419f61cffe"
      },
      "execution_count": 155,
      "outputs": [
        {
          "output_type": "execute_result",
          "data": {
            "text/plain": [
              "0.0691"
            ]
          },
          "metadata": {},
          "execution_count": 155
        }
      ]
    },
    {
      "cell_type": "markdown",
      "source": [
        "Interpretação: Como a taxa de Open Rate para o Email 2 foi de aproximadamente 57%, isso significa que a cada 100 emails entregues, aproximadamente 57 são visualizados. "
      ],
      "metadata": {
        "id": "N398kiHIUgA1"
      }
    },
    {
      "cell_type": "markdown",
      "source": [
        "##Click"
      ],
      "metadata": {
        "id": "UxpwTsUINhiL"
      }
    },
    {
      "cell_type": "markdown",
      "source": [
        "Quantidade de clicks dos usuários em cada email"
      ],
      "metadata": {
        "id": "O6XxQ6TVNyMG"
      }
    },
    {
      "cell_type": "code",
      "source": [
        "df_mesclado['contagem_clicks_x'].sum()"
      ],
      "metadata": {
        "colab": {
          "base_uri": "https://localhost:8080/"
        },
        "id": "KcYtkz0ONjFD",
        "outputId": "a74a45fc-e58f-4b06-88cc-36bfbddafcc3"
      },
      "execution_count": 156,
      "outputs": [
        {
          "output_type": "execute_result",
          "data": {
            "text/plain": [
              "102.0"
            ]
          },
          "metadata": {},
          "execution_count": 156
        }
      ]
    },
    {
      "cell_type": "code",
      "source": [
        "df_mesclado['contagem_clicks_2'].sum()"
      ],
      "metadata": {
        "colab": {
          "base_uri": "https://localhost:8080/"
        },
        "id": "XAkb0kpcNlji",
        "outputId": "bba2d5ba-b1fa-4a08-8e6b-234638778e78"
      },
      "execution_count": 157,
      "outputs": [
        {
          "output_type": "execute_result",
          "data": {
            "text/plain": [
              "35.0"
            ]
          },
          "metadata": {},
          "execution_count": 157
        }
      ]
    },
    {
      "cell_type": "code",
      "source": [
        "df_mesclado['contagem_clicks_3'].sum()"
      ],
      "metadata": {
        "colab": {
          "base_uri": "https://localhost:8080/"
        },
        "id": "C78nB01iNlds",
        "outputId": "a4d2a90c-2b85-434c-9dea-da120473c0e5"
      },
      "execution_count": 158,
      "outputs": [
        {
          "output_type": "execute_result",
          "data": {
            "text/plain": [
              "15.0"
            ]
          },
          "metadata": {},
          "execution_count": 158
        }
      ]
    },
    {
      "cell_type": "code",
      "source": [
        "df_mesclado['contagem_clicks_4'].sum()"
      ],
      "metadata": {
        "colab": {
          "base_uri": "https://localhost:8080/"
        },
        "id": "rKyZOLRENla5",
        "outputId": "b4f88628-dc54-493e-c07f-3dd0cf3e5a2d"
      },
      "execution_count": 159,
      "outputs": [
        {
          "output_type": "execute_result",
          "data": {
            "text/plain": [
              "2.0"
            ]
          },
          "metadata": {},
          "execution_count": 159
        }
      ]
    },
    {
      "cell_type": "markdown",
      "source": [
        "## CTR (Click Trought Rate)"
      ],
      "metadata": {
        "id": "N-_DBLOlKCtL"
      }
    },
    {
      "cell_type": "markdown",
      "source": [
        "Indicador de marketing que mostra a taxa de cliques, ou seja, a relação entre o número de cliques e o número de visualizações de um anúncio, email, etc. e tem o intuito de avaliar a eficiência de estratégias e ações impostas durante o plano de marketing"
      ],
      "metadata": {
        "id": "45rWVPK1N9ty"
      }
    },
    {
      "cell_type": "code",
      "source": [
        "CTR1 = df_mesclado['contagem_clicks_x'].sum() / df_mesclado['contagem_emails_x'].sum()\n",
        "CTR1.round(4)"
      ],
      "metadata": {
        "colab": {
          "base_uri": "https://localhost:8080/"
        },
        "id": "zaE-TRCWKTgU",
        "outputId": "af73794f-7dad-4f33-f53a-057d72eec30c"
      },
      "execution_count": 160,
      "outputs": [
        {
          "output_type": "execute_result",
          "data": {
            "text/plain": [
              "0.1498"
            ]
          },
          "metadata": {},
          "execution_count": 160
        }
      ]
    },
    {
      "cell_type": "code",
      "source": [
        "CTR2 = df_mesclado['contagem_clicks_2'].sum() / df_mesclado['contagem_emails_2'].sum()\n",
        "CTR2.round(4)"
      ],
      "metadata": {
        "colab": {
          "base_uri": "https://localhost:8080/"
        },
        "id": "vcStNCUZKuWI",
        "outputId": "ed2876c7-877f-4f11-a7c5-39e3ee14b4b9"
      },
      "execution_count": 161,
      "outputs": [
        {
          "output_type": "execute_result",
          "data": {
            "text/plain": [
              "0.0897"
            ]
          },
          "metadata": {},
          "execution_count": 161
        }
      ]
    },
    {
      "cell_type": "code",
      "source": [
        "CTR3 = df_mesclado['contagem_clicks_3'].sum() / df_mesclado['contagem_emails_3'].sum()\n",
        "CTR3.round(4)"
      ],
      "metadata": {
        "colab": {
          "base_uri": "https://localhost:8080/"
        },
        "id": "PYLAqpAQMnCB",
        "outputId": "39d10f2a-9859-40ea-f874-c26782db587a"
      },
      "execution_count": 162,
      "outputs": [
        {
          "output_type": "execute_result",
          "data": {
            "text/plain": [
              "0.0598"
            ]
          },
          "metadata": {},
          "execution_count": 162
        }
      ]
    },
    {
      "cell_type": "code",
      "source": [
        "CTR4 = df_mesclado['contagem_clicks_4'].sum() / df_mesclado['contagem_emails_4'].sum()\n",
        "CTR4.round(4)"
      ],
      "metadata": {
        "colab": {
          "base_uri": "https://localhost:8080/"
        },
        "id": "xwCvC41qMpuq",
        "outputId": "3b923e9b-a8a1-4535-da1a-5e43160f4453"
      },
      "execution_count": 163,
      "outputs": [
        {
          "output_type": "execute_result",
          "data": {
            "text/plain": [
              "0.0417"
            ]
          },
          "metadata": {},
          "execution_count": 163
        }
      ]
    },
    {
      "cell_type": "markdown",
      "source": [
        "Interpretação: Quanto maior o CTR, melhor é a performance das estratégias a ações feitas. Dito isso, nota-se que há um decaimento do CTR do email 1 para o último email de aproximadamente 11%, então devem ser tomadas ações de modo que diminua essa diferença (e continue aumentando a porcentagem de CTR para cada email)."
      ],
      "metadata": {
        "id": "coJpff8GVbBy"
      }
    },
    {
      "cell_type": "markdown",
      "source": [
        "# Exportando base de dados manipulada"
      ],
      "metadata": {
        "id": "dfj6GpHcmZb6"
      }
    },
    {
      "cell_type": "markdown",
      "source": [
        "Exportando a base de dados para o excel, os próximos passos serão feitos em Power BI, no intuito de usar storytelling para deixar o dashboard o mais útil possível."
      ],
      "metadata": {
        "id": "MFX_G_Z0m15s"
      }
    },
    {
      "cell_type": "code",
      "source": [
        "df_mesclado.to_excel('test_manipulado.xlsx')"
      ],
      "metadata": {
        "id": "tLN91V5amV6V"
      },
      "execution_count": 164,
      "outputs": []
    }
  ]
}